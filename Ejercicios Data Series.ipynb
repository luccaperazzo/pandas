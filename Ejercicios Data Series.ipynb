{
 "cells": [
  {
   "cell_type": "code",
   "execution_count": 8,
   "metadata": {},
   "outputs": [
    {
     "name": "stdout",
     "output_type": "stream",
     "text": [
      "0    0\n",
      "1   -4\n",
      "2   -1\n",
      "dtype: int64\n"
     ]
    }
   ],
   "source": [
    "#1,2,3\n",
    "import pandas as pd \n",
    "lol = [1,2,3]\n",
    "lol2 = [1,6,4]\n",
    "xd = pd.Series(lol)\n",
    "xd2 = pd.Series(lol2)\n",
    "\n",
    "resta = xd - xd2\n",
    "print(resta)"
   ]
  },
  {
   "cell_type": "code",
   "execution_count": 11,
   "metadata": {},
   "outputs": [
    {
     "name": "stdout",
     "output_type": "stream",
     "text": [
      "a     10\n",
      "b    100\n",
      "c    100\n",
      "dtype: int64\n"
     ]
    }
   ],
   "source": [
    "#5\n",
    "diccio = {\"a\":10,\"b\":100,\"c\":100}\n",
    "xd = pd.Series(diccio)\n",
    "print(xd)\n"
   ]
  },
  {
   "cell_type": "code",
   "execution_count": 21,
   "metadata": {},
   "outputs": [
    {
     "name": "stdout",
     "output_type": "stream",
     "text": [
      "0    7\n",
      "dtype: int64\n"
     ]
    }
   ],
   "source": [
    "#7\n",
    "import pandas as pd\n",
    "\n",
    "a = [\"1\", \"7\", \"2\",23]\n",
    "a[1] = pd.to_numeric(a[1])\n",
    "\n",
    "myvar = pd.Series(a[1])\n",
    "\n",
    "print(myvar)"
   ]
  },
  {
   "cell_type": "code",
   "execution_count": 29,
   "metadata": {},
   "outputs": [
    {
     "name": "stdout",
     "output_type": "stream",
     "text": [
      "a     10\n",
      "b    100\n",
      "c    100\n",
      "dtype: int64\n",
      "0    calories\n",
      "dtype: object\n"
     ]
    }
   ],
   "source": [
    "#8\n",
    "import pandas as pd\n",
    "\n",
    "data = {\n",
    "  \"calories\": [420, 380, 390],\n",
    "  \"duration\": [50, 40, 45]\n",
    "}\n",
    "print(xd)\n",
    "df = pd.Series(\"calories\")\n",
    "print(df)\n"
   ]
  },
  {
   "cell_type": "code",
   "execution_count": 30,
   "metadata": {},
   "outputs": [
    {
     "name": "stdout",
     "output_type": "stream",
     "text": [
      "['1', '7', '2', 23]\n"
     ]
    }
   ],
   "source": [
    "#9\n",
    "import pandas as pd\n",
    "\n",
    "a = [\"1\", \"7\", \"2\",23]\n",
    "xd = pd.Series(a)\n",
    "lista = []\n",
    "for i in xd:\n",
    "    lista.append(i)\n",
    "print(lista)"
   ]
  },
  {
   "cell_type": "code",
   "execution_count": 33,
   "metadata": {},
   "outputs": [
    {
     "name": "stdout",
     "output_type": "stream",
     "text": [
      "0    1\n",
      "1    2\n",
      "2    3\n",
      "3    4\n",
      "4    5\n",
      "5    6\n",
      "6    4\n",
      "7    8\n",
      "8    9\n",
      "dtype: int64\n"
     ]
    }
   ],
   "source": [
    "#10\n",
    "lista1=[1,2,3]\n",
    "lista2= [4,5,6]\n",
    "lista3=[4,8,9]\n",
    "xd = lista1+ lista2+lista3\n",
    "lol = pd.Series(xd)\n",
    "print(lol)"
   ]
  },
  {
   "cell_type": "code",
   "execution_count": 35,
   "metadata": {},
   "outputs": [
    {
     "data": {
      "text/plain": [
       "0     1\n",
       "2     2\n",
       "1     7\n",
       "3    23\n",
       "dtype: int64"
      ]
     },
     "execution_count": 35,
     "metadata": {},
     "output_type": "execute_result"
    }
   ],
   "source": [
    "#11\n",
    "import pandas as pd\n",
    "\n",
    "a = [1, 7, 2,23]\n",
    "xd = pd.Series(a)\n",
    "xd.sort_values(ascending=True)\n"
   ]
  },
  {
   "cell_type": "code",
   "execution_count": 43,
   "metadata": {},
   "outputs": [
    {
     "data": {
      "text/plain": [
       "0     1\n",
       "1     7\n",
       "2     2\n",
       "3    23\n",
       "0     1\n",
       "1     2\n",
       "2     3\n",
       "3     4\n",
       "dtype: int64"
      ]
     },
     "execution_count": 43,
     "metadata": {},
     "output_type": "execute_result"
    }
   ],
   "source": [
    "#12\n",
    "import pandas as pd\n",
    "\n",
    "a = [1, 7, 2,23]\n",
    "xd = pd.Series(a)\n",
    "mop = [1,2,3,4]\n",
    "xd2 = pd.Series(mop)\n",
    "\n",
    "xd.append(xd2)\n"
   ]
  },
  {
   "cell_type": "code",
   "execution_count": 1,
   "metadata": {},
   "outputs": [
    {
     "name": "stdout",
     "output_type": "stream",
     "text": [
      "0     7\n",
      "1    23\n",
      "dtype: int64\n"
     ]
    }
   ],
   "source": [
    "#13\n",
    "import numpy as np\n",
    "import pandas as pd \n",
    "a = [1, 7, 2,23]\n",
    "xd = pd.Series(a)\n",
    "lol = xd.loc[xd > 5].tolist()\n",
    "lol2 = pd.Series(lol)\n",
    "print(lol2)"
   ]
  },
  {
   "cell_type": "code",
   "execution_count": 76,
   "metadata": {},
   "outputs": [
    {
     "name": "stdout",
     "output_type": "stream",
     "text": [
      "3    23\n",
      "2     2\n",
      "1     7\n",
      "0     1\n",
      "dtype: int64\n"
     ]
    }
   ],
   "source": [
    "#14\n",
    "import pandas as pd\n",
    "c = [1,7,2,23]\n",
    "lol = pd.Series(c)\n",
    "ser2 = lol.reindex(index = [3, 2, 1, 0])\n",
    "print(ser2)"
   ]
  },
  {
   "cell_type": "code",
   "execution_count": 1,
   "metadata": {},
   "outputs": [
    {
     "name": "stdout",
     "output_type": "stream",
     "text": [
      "2.1213203435596424\n",
      "2.5\n"
     ]
    }
   ],
   "source": [
    "#15import pandas as pd\n",
    "c = [1,4]\n",
    "lol = pd.Series(c)\n",
    "mean = lol.mean()\n",
    "std = lol.std()\n",
    "print(std)\n",
    "print(mean)"
   ]
  },
  {
   "cell_type": "code",
   "execution_count": 12,
   "metadata": {},
   "outputs": [
    {
     "name": "stdout",
     "output_type": "stream",
     "text": [
      "Items in Series 1 not present in Series 2:\n",
      "0    1.0\n",
      "1    2.0\n",
      "2    6.0\n",
      "4    5.0\n",
      "dtype: float64\n"
     ]
    }
   ],
   "source": [
    "#16-17\n",
    "import pandas as pd\n",
    "\n",
    "# Sample Series 1\n",
    "series1 = pd.Series([1, 2, 3, 4, 5])\n",
    "\n",
    "# Sample Series 2\n",
    "series2 = pd.Series([3, 4, 6])\n",
    "\n",
    "# Get items in series1 that are not present in series2\n",
    "a = series1[~series1.isin(series2)]\n",
    "b = series2[~series2.isin(series1)]\n",
    "final = a.add(b,fill_value=0)\n",
    "\n",
    "print(\"Items in Series 1 not present in Series 2:\")\n",
    "print(final)"
   ]
  },
  {
   "cell_type": "code",
   "execution_count": 30,
   "metadata": {},
   "outputs": [
    {
     "data": {
      "text/plain": [
       "4"
      ]
     },
     "execution_count": 30,
     "metadata": {},
     "output_type": "execute_result"
    }
   ],
   "source": [
    "#18\n",
    "import pandas as pd\n",
    "\n",
    "# Sample Series 1\n",
    "series1 = pd.Series([4,3,2,1])\n",
    "min(series1)\n",
    "series1.quantile([.25, .5, .75])\n",
    "max(series1)"
   ]
  },
  {
   "cell_type": "code",
   "execution_count": 41,
   "metadata": {},
   "outputs": [
    {
     "name": "stdout",
     "output_type": "stream",
     "text": [
      "5\n"
     ]
    }
   ],
   "source": [
    "#19\n",
    "import pandas as pd\n",
    "series1 = pd.Series([4,3,2,1,1,1])\n",
    "counts = series1.value_counts().to_dict()\n",
    "print(counts)"
   ]
  },
  {
   "cell_type": "code",
   "execution_count": 64,
   "metadata": {},
   "outputs": [
    {
     "name": "stdout",
     "output_type": "stream",
     "text": [
      "[4, 3, 2, 1, 15, 55, 1]\n",
      "0     Other\n",
      "1     Other\n",
      "2     Other\n",
      "3     Other\n",
      "4     Other\n",
      "5         5\n",
      "6     Other\n",
      "7         5\n",
      "8         5\n",
      "9         5\n",
      "10        5\n",
      "11    Other\n",
      "dtype: object\n"
     ]
    }
   ],
   "source": [
    "#20\n",
    "import pandas as pd\n",
    "series1 = pd.Series([4,3,2,1,15,5,55,5,5,5,5,1])\n",
    "xd = []\n",
    "mode = series1.mode()[0]\n",
    "for x in series1:\n",
    "    if x!= mode:\n",
    "        xd.append(x)\n",
    "print(xd)\n",
    "for i in series1:\n",
    "    if i != mode:\n",
    "        series1 = series1.replace(xd,\"Other\")\n",
    "print(series1)"
   ]
  },
  {
   "cell_type": "code",
   "execution_count": 10,
   "metadata": {},
   "outputs": [
    {
     "name": "stdout",
     "output_type": "stream",
     "text": [
      "0     4\n",
      "1     3\n",
      "6    55\n",
      "dtype: int64\n"
     ]
    }
   ],
   "source": [
    "#21\n",
    "import pandas as pd\n",
    "series1 = pd.Series([4,3,2,1,15,5,55,5,5,5,5,1])\n",
    "# Create a sample Series\n",
    "# Get multiple items at once using a list of index labels\n",
    "items_at_indexes_B_and_D = series1[[0, 1,6]]\n",
    "print(items_at_indexes_B_and_D)\n",
    "\n"
   ]
  },
  {
   "cell_type": "code",
   "execution_count": 16,
   "metadata": {},
   "outputs": [
    {
     "name": "stdout",
     "output_type": "stream",
     "text": [
      "0    0\n",
      "1    4\n",
      "dtype: int64\n"
     ]
    }
   ],
   "source": [
    "#22\n",
    "import pandas as pd\n",
    "series1 = pd.Series([4,3,2,1,7,15,5,55,5,5,5,5,1])\n",
    "series2 = pd.Series([4,7])\n",
    "lista = []\n",
    "for i in range(len(series1)):\n",
    "    for x in range(len(series2)):\n",
    "        if series1[i] == series2[x]:\n",
    "            lista.append(i)\n",
    "series3 = pd.Series(lista)\n",
    "print(series3)\n",
    "            \n"
   ]
  },
  {
   "cell_type": "code",
   "execution_count": 19,
   "metadata": {},
   "outputs": [
    {
     "name": "stdout",
     "output_type": "stream",
     "text": [
      "0     HolA\n",
      "1     ComO\n",
      "2    EstaS\n",
      "dtype: object\n"
     ]
    }
   ],
   "source": [
    "#24\n",
    "import pandas as pd\n",
    "series = pd.Series([\"hola\",\"como\",\"estas\"])\n",
    "def funcion(s):\n",
    "    primer = s[0].upper()\n",
    "    ultimo = s[-1].upper()\n",
    "    final= primer + s[1:-1] + ultimo\n",
    "    return final\n",
    "\n",
    "s = series.apply(funcion)\n",
    "print(s)"
   ]
  },
  {
   "cell_type": "code",
   "execution_count": 21,
   "metadata": {},
   "outputs": [
    {
     "name": "stdout",
     "output_type": "stream",
     "text": [
      "0    4\n",
      "1    4\n",
      "2    5\n",
      "dtype: int64\n"
     ]
    }
   ],
   "source": [
    "#25\n",
    "series = pd.Series([\"hola\",\"como\",\"estas\"])\n",
    "lista = []\n",
    "for i in range(len(series)):\n",
    "    lista.append(len(series[i]))\n",
    "final = pd.Series(lista)\n",
    "print(final)\n"
   ]
  },
  {
   "cell_type": "code",
   "execution_count": 22,
   "metadata": {},
   "outputs": [
    {
     "name": "stdout",
     "output_type": "stream",
     "text": [
      "0   2021-07-12 00:00:00\n",
      "1   2001-04-01 00:00:00\n",
      "2   2002-01-01 00:00:00\n",
      "3   2000-09-09 00:00:00\n",
      "4   2020-05-18 00:00:00\n",
      "5   2021-08-08 14:35:00\n",
      "dtype: datetime64[ns]\n"
     ]
    }
   ],
   "source": [
    "#27\n",
    "import pandas as pd\n",
    "series = pd. Series(['12 July 2021', '04-01-2001', '20020101', '2000/09/09', '2020-05-18', '2021-08-08T14:35'])\n",
    "result = pd. to_datetime(series)\n",
    "print(result)"
   ]
  },
  {
   "cell_type": "code",
   "execution_count": 26,
   "metadata": {},
   "outputs": [
    {
     "name": "stdout",
     "output_type": "stream",
     "text": [
      "0     NaN\n",
      "1    22.0\n",
      "2    53.0\n",
      "3   -21.0\n",
      "dtype: float64\n"
     ]
    }
   ],
   "source": [
    "#26\n",
    "import pandas as pd\n",
    "series = pd.Series([1,23,76,55])\n",
    "first = series.diff()\n",
    "print(first)\n",
    "    \n"
   ]
  },
  {
   "cell_type": "code",
   "execution_count": 27,
   "metadata": {},
   "outputs": [
    {
     "name": "stdout",
     "output_type": "stream",
     "text": [
      "Original Series:\n",
      "0         01 Jan 2015\n",
      "1          10-02-2016\n",
      "2            20180307\n",
      "3          2014/05/06\n",
      "4          2016-04-12\n",
      "5    2019-04-06T11:20\n",
      "dtype: object\n",
      "Day of month:\n",
      "[1, 2, 7, 6, 12, 6]\n",
      "Day of year:\n",
      "[1, 276, 66, 126, 103, 96]\n",
      "Week number:\n",
      "[1, 39, 10, 19, 15, 14]\n",
      "Day of week:\n",
      "['Thursday', 'Sunday', 'Wednesday', 'Tuesday', 'Tuesday', 'Saturday']\n"
     ]
    }
   ],
   "source": [
    "#28\n",
    "import pandas as pd\n",
    "from dateutil.parser import parse\n",
    "date_series = pd.Series(['01 Jan 2015', '10-02-2016', '20180307', '2014/05/06', '2016-04-12', '2019-04-06T11:20'])\n",
    "print(\"Original Series:\")\n",
    "print(date_series)\n",
    "date_series = date_series.map(lambda x: parse(x))\n",
    "print(\"Day of month:\")\n",
    "print(date_series.dt.day.tolist())\n",
    "print(\"Day of year:\")\n",
    "print(date_series.dt.dayofyear.tolist())\n",
    "print(\"Week number:\")\n",
    "print(date_series.dt.weekofyear.tolist())\n",
    "print(\"Day of week:\")\n",
    "print(date_series.dt.weekday_name.tolist())\n"
   ]
  },
  {
   "cell_type": "code",
   "execution_count": 41,
   "metadata": {},
   "outputs": [
    {
     "name": "stdout",
     "output_type": "stream",
     "text": [
      "0     hola\n",
      "1     como\n",
      "2    estas\n",
      "dtype: object\n"
     ]
    }
   ],
   "source": [
    "#29\n",
    "import pandas as pd \n",
    "lista = []\n",
    "series = pd.Series([\"hola\",\"como\",\"estas\",\"jmon\",\"sgsgsg\"])\n",
    "for i in range(len(series)):\n",
    "    contar = 0\n",
    "    for x in series[i]:\n",
    "        if x in \"aeiou\":\n",
    "            contar += 1\n",
    "    if contar >= 2:\n",
    "        lista.append(series[i])\n",
    "serie2 = pd.Series(lista)            \n",
    "print(serie2)"
   ]
  },
  {
   "cell_type": "code",
   "execution_count": 48,
   "metadata": {},
   "outputs": [
    {
     "name": "stdout",
     "output_type": "stream",
     "text": [
      "Original series:\n",
      "0     1\n",
      "1     2\n",
      "2     3\n",
      "3     4\n",
      "4     5\n",
      "5     6\n",
      "6     7\n",
      "7     8\n",
      "8     9\n",
      "9    10\n",
      "dtype: int64\n",
      "0    11\n",
      "1     8\n",
      "2     7\n",
      "3     5\n",
      "4     6\n",
      "5     5\n",
      "6     3\n",
      "7     4\n",
      "8     7\n",
      "9     1\n",
      "dtype: int64\n",
      "\n",
      "Euclidean distance between two said series:\n",
      "16.492422502470642\n"
     ]
    }
   ],
   "source": [
    "#30\n",
    "import pandas as pd\n",
    "import numpy as np\n",
    "x = pd.Series([1, 2, 3, 4, 5, 6, 7, 8, 9, 10])\n",
    "y = pd.Series([11, 8, 7, 5, 6, 5, 3, 4, 7, 1])\n",
    "print(\"Original series:\")\n",
    "print(x)\n",
    "print(y)\n",
    "print(\"\\nEuclidean distance between two said series:\")\n",
    "print(np.linalg.norm(x-y))\n"
   ]
  },
  {
   "cell_type": "code",
   "execution_count": 6,
   "metadata": {},
   "outputs": [
    {
     "name": "stdout",
     "output_type": "stream",
     "text": [
      "0     6\n",
      "1    87\n",
      "dtype: int64\n"
     ]
    }
   ],
   "source": [
    "#32\n",
    "import pandas as pd \n",
    "x = pd.Series([1,2,6,4,2,4,87,4,2,3])\n",
    "y = []\n",
    "for i in range(1,len(x)-1):\n",
    "    if x[i] > x[i+1] and x[i] > x[i-1]:\n",
    "        y.append(x[i])\n",
    "        \n",
    "lol = pd.Series(y)\n",
    "print(lol)"
   ]
  },
  {
   "cell_type": "code",
   "execution_count": 38,
   "metadata": {},
   "outputs": [
    {
     "name": "stdout",
     "output_type": "stream",
     "text": [
      "Original String:\n",
      "Thi is a sampl string with missing spaces\n",
      "\n",
      "String after replacing missing white spaces:\n",
      "Thieiseaesamplestringewithemissingespaces\n"
     ]
    }
   ],
   "source": [
    "#33\n",
    "import pandas as pd\n",
    "\n",
    "def replace_missing_spaces_with_least_frequent_char(input_string):\n",
    "    # Count the frequency of each character\n",
    "    char_counts = pd.Series(list(input_string)).value_counts()\n",
    "\n",
    "    # Find the least frequent character\n",
    "    least_frequent_char = char_counts.idxmin()\n",
    "\n",
    "    # Replace missing white spaces with the least frequent character\n",
    "    output_string = ''.join([char if char != ' ' else least_frequent_char for char in input_string])\n",
    "\n",
    "    return output_string\n",
    "\n",
    "# Sample input string\n",
    "input_string = \"Thi is a sampl string with missing spaces\"\n",
    "\n",
    "# Replace missing white spaces with the least frequent character\n",
    "result_string = replace_missing_spaces_with_least_frequent_char(input_string)\n",
    "\n",
    "print(\"Original String:\")\n",
    "print(input_string)\n",
    "\n",
    "print(\"\\nString after replacing missing white spaces:\")\n",
    "print(result_string)\n"
   ]
  },
  {
   "cell_type": "code",
   "execution_count": 42,
   "metadata": {},
   "outputs": [
    {
     "data": {
      "text/plain": [
       "-0.4799377261480947"
      ]
     },
     "execution_count": 42,
     "metadata": {},
     "output_type": "execute_result"
    }
   ],
   "source": [
    "#34\n",
    "x = pd.Series([13.1251251,12.63463,-14.141,12.41])\n",
    "x.autocorr()\n"
   ]
  },
  {
   "cell_type": "code",
   "execution_count": null,
   "metadata": {},
   "outputs": [],
   "source": [
    "#35\n",
    "import pandas as pd\n",
    "\n",
    "def get_all_sundays(year):\n",
    "    start_date = f\"{year}-01-01\"\n",
    "    end_date = f\"{year}-12-31\"\n",
    "    sundays = pd.date_range(start=start_date, end=end_date, freq='W-SUN')\n",
    "    return sundays\n",
    "\n",
    "# Replace '2023' with the desired year\n",
    "year = 2023\n",
    "\n",
    "# Get all the Sundays of the given year\n",
    "sundays_series = get_all_sundays(year)\n",
    "\n",
    "print(\"Sundays in the year\", year, \":\")\n",
    "print(sundays_series)\n"
   ]
  },
  {
   "cell_type": "code",
   "execution_count": 10,
   "metadata": {},
   "outputs": [
    {
     "name": "stdout",
     "output_type": "stream",
     "text": [
      "      Name  Age Height\n",
      "A    Alice   25      A\n",
      "B      Bob   30      B\n",
      "C  Charlie   22      C\n",
      "D    David   28      D\n"
     ]
    }
   ],
   "source": [
    "#36\n",
    "import pandas as pd\n",
    "\n",
    "# Sample DataFrame\n",
    "data = {\n",
    "    'Name': ['Alice', 'Bob', 'Charlie', 'David'],\n",
    "    'Age': [25, 30, 22, 28],\n",
    "}\n",
    "df = pd.DataFrame(data)\n",
    "\n",
    "# Set a new index for the DataFrame\n",
    "new_index = ['A', 'B', 'C', 'D']\n",
    "df.index = new_index\n",
    "df['Height'] = new_index\n",
    "\n",
    "\n",
    "print(df)\n",
    "\n"
   ]
  },
  {
   "cell_type": "code",
   "execution_count": 11,
   "metadata": {},
   "outputs": [
    {
     "name": "stdout",
     "output_type": "stream",
     "text": [
      "Original Series:\n",
      "0    0\n",
      "1    1\n",
      "2    2\n",
      "3    3\n",
      "4    4\n",
      "5    5\n",
      "6    6\n",
      "7    7\n",
      "8    8\n",
      "9    9\n",
      "dtype: int64\n",
      "0    p\n",
      "1    q\n",
      "2    r\n",
      "3    s\n",
      "4    t\n",
      "5    u\n",
      "6    v\n",
      "7    w\n",
      "8    x\n",
      "9    y\n",
      "dtype: object\n",
      "\n",
      "Stack two given series vertically and horizontally:\n",
      "   0  1\n",
      "0  0  p\n",
      "1  1  q\n",
      "2  2  r\n",
      "3  3  s\n",
      "4  4  t\n",
      "5  5  u\n",
      "6  6  v\n",
      "7  7  w\n",
      "8  8  x\n",
      "9  9  y\n"
     ]
    }
   ],
   "source": [
    "#37\n",
    "import pandas as pd\n",
    "series1 = pd.Series(range(10))\n",
    "series2 = pd.Series(list('pqrstuvwxy'))\n",
    "print(\"Original Series:\")\n",
    "print(series1)\n",
    "print(series2)\n",
    "series1.append(series2)\n",
    "df = pd.concat([series1, series2], axis=1)\n",
    "print(\"\\nStack two given series vertically and horizontally:\")\n",
    "print(df)\n"
   ]
  },
  {
   "cell_type": "code",
   "execution_count": 16,
   "metadata": {},
   "outputs": [
    {
     "name": "stdout",
     "output_type": "stream",
     "text": [
      "[True, True, True, True, True, True, False]\n"
     ]
    }
   ],
   "source": [
    "#38\n",
    "import pandas as pd \n",
    "serie1 = pd.Series([1,2,5,6,1,2,67])\n",
    "serie2 = pd.Series([1,2,5,6,1,2,47])\n",
    "lista = []\n",
    "for i in range(len(serie1)):\n",
    "    if serie1[i] == serie2[i]:\n",
    "        lista.append(True)\n",
    "    else:\n",
    "        lista.append(False)\n",
    "print(lista)"
   ]
  },
  {
   "cell_type": "code",
   "execution_count": 4,
   "metadata": {},
   "outputs": [
    {
     "name": "stdout",
     "output_type": "stream",
     "text": [
      "[0]\n"
     ]
    }
   ],
   "source": [
    "#39\n",
    "import pandas as pd \n",
    "serie = pd.Series([1,2,5,6,2,1])\n",
    "minimo = serie.min()\n",
    "lista = []\n",
    "for i in range(len(serie)):\n",
    "    if serie[i] == minimo:\n",
    "        lista.append(i)\n",
    "        break\n",
    "print(lista)\n"
   ]
  },
  {
   "cell_type": "code",
   "execution_count": 5,
   "metadata": {},
   "outputs": [
    {
     "name": "stdout",
     "output_type": "stream",
     "text": [
      "DataFrame:\n",
      "   A  B   C\n",
      "0  1  5   9\n",
      "1  2  6  10\n",
      "2  3  7  11\n",
      "3  4  8  12\n",
      "\n",
      "Series:\n",
      "X    10\n",
      "Y    20\n",
      "Z    30\n",
      "W    40\n",
      "dtype: int64\n",
      "\n",
      "Inequality DataFrame:\n",
      "[ True  True  True  True]\n"
     ]
    }
   ],
   "source": [
    "#40\n",
    "import pandas as pd\n",
    "\n",
    "# Sample DataFrame\n",
    "data = {\n",
    "    'A': [1, 2, 3, 4],\n",
    "    'B': [5, 6, 7, 8],\n",
    "    'C': [9, 10, 11, 12]\n",
    "}\n",
    "df = pd.DataFrame(data)\n",
    "\n",
    "# Sample Series with different index\n",
    "series_data = [10, 20, 30, 40]\n",
    "series = pd.Series(series_data, index=['X', 'Y', 'Z', 'W'])\n",
    "\n",
    "# Check inequality over the index axis\n",
    "inequality_df = df.index != series.index\n",
    "\n",
    "print(\"DataFrame:\")\n",
    "print(df)\n",
    "print(\"\\nSeries:\")\n",
    "print(series)\n",
    "print(\"\\nInequality DataFrame:\")\n",
    "print(inequality_df)\n"
   ]
  },
  {
   "cell_type": "code",
   "execution_count": null,
   "metadata": {},
   "outputs": [],
   "source": []
  }
 ],
 "metadata": {
  "kernelspec": {
   "display_name": "Python 3",
   "language": "python",
   "name": "python3"
  },
  "language_info": {
   "codemirror_mode": {
    "name": "ipython",
    "version": 3
   },
   "file_extension": ".py",
   "mimetype": "text/x-python",
   "name": "python",
   "nbconvert_exporter": "python",
   "pygments_lexer": "ipython3",
   "version": "3.7.3"
  }
 },
 "nbformat": 4,
 "nbformat_minor": 2
}
